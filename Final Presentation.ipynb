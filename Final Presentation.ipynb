{
 "cells": [
  {
   "cell_type": "markdown",
   "id": "f6d886a6",
   "metadata": {
    "slideshow": {
     "slide_type": "slide"
    }
   },
   "source": [
    "# DS Foundations Project Status Assessment \n",
    "\n",
    "## Exploring Tennessee In School Suspension Data\n",
    "\n",
    "By: Lawand Yaseen "
   ]
  },
  {
   "cell_type": "markdown",
   "id": "abd907bb",
   "metadata": {
    "slideshow": {
     "slide_type": "slide"
    }
   },
   "source": [
    "# Slide 1 of Problem Statement and Background\n",
    "\n",
    "In School Suspension \n",
    "\n",
    "Research into demographical and pupil spending "
   ]
  },
  {
   "cell_type": "markdown",
   "id": "38217d51",
   "metadata": {
    "slideshow": {
     "slide_type": "slide"
    }
   },
   "source": [
    "# Slide 2 of Problem Statement and Background\n",
    "\n",
    "Tennessee Discipline Act \n",
    "\n",
    "Teacher context "
   ]
  },
  {
   "cell_type": "markdown",
   "id": "f13cf16d",
   "metadata": {
    "slideshow": {
     "slide_type": "slide"
    }
   },
   "source": [
    "# Slide 3 of Problem Statement and Background \n",
    "\n",
    "Where did I get data"
   ]
  },
  {
   "cell_type": "markdown",
   "id": "8cbf6328",
   "metadata": {
    "slideshow": {
     "slide_type": "slide"
    }
   },
   "source": [
    "# Slide 1 Method Explored and Concerned"
   ]
  },
  {
   "cell_type": "markdown",
   "id": "05296227",
   "metadata": {
    "slideshow": {
     "slide_type": "slide"
    }
   },
   "source": [
    "# Slide 2 Method Explored and Concerned"
   ]
  },
  {
   "cell_type": "markdown",
   "id": "1165ce9d",
   "metadata": {
    "slideshow": {
     "slide_type": "slide"
    }
   },
   "source": [
    "# Slide 1 Methods Used & Rationale \n",
    "\n",
    "data clean up "
   ]
  },
  {
   "cell_type": "markdown",
   "id": "2630bab6",
   "metadata": {
    "slideshow": {
     "slide_type": "slide"
    }
   },
   "source": [
    "# Slide 2 Methods Used & Rationale \n",
    "\n"
   ]
  },
  {
   "cell_type": "markdown",
   "id": "4577c5fb",
   "metadata": {
    "slideshow": {
     "slide_type": "slide"
    }
   },
   "source": [
    "## Results Slide 1 "
   ]
  },
  {
   "cell_type": "markdown",
   "id": "282b75a1",
   "metadata": {
    "slideshow": {
     "slide_type": "slide"
    }
   },
   "source": [
    "## Results Slide 2 "
   ]
  },
  {
   "cell_type": "markdown",
   "id": "8f3b7a4f",
   "metadata": {
    "slideshow": {
     "slide_type": "slide"
    }
   },
   "source": [
    "## Results Slide 3 "
   ]
  },
  {
   "cell_type": "markdown",
   "id": "cbdac6de",
   "metadata": {
    "slideshow": {
     "slide_type": "slide"
    }
   },
   "source": [
    "## Lessons Learned and Future Plans + Problems"
   ]
  }
 ],
 "metadata": {
  "celltoolbar": "Slideshow",
  "kernelspec": {
   "display_name": "Python 3",
   "language": "python",
   "name": "python3"
  },
  "language_info": {
   "codemirror_mode": {
    "name": "ipython",
    "version": 3
   },
   "file_extension": ".py",
   "mimetype": "text/x-python",
   "name": "python",
   "nbconvert_exporter": "python",
   "pygments_lexer": "ipython3",
   "version": "3.8.8"
  }
 },
 "nbformat": 4,
 "nbformat_minor": 5
}
